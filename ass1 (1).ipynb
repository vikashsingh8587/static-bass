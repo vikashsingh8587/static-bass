{
 "cells": [
  {
   "cell_type": "code",
   "execution_count": 1,
   "id": "6effcc04-9feb-479a-9173-20293ccfb8a7",
   "metadata": {},
   "outputs": [],
   "source": [
    "#Q1. What is Statistics?"
   ]
  },
  {
   "cell_type": "code",
   "execution_count": 2,
   "id": "a9a8089e-8976-4500-a56f-084f252513fa",
   "metadata": {},
   "outputs": [],
   "source": [
    "# statistics  is the science of organising collecting and analyzing the data."
   ]
  },
  {
   "cell_type": "code",
   "execution_count": 4,
   "id": "553c7f40-5092-4507-9718-207724af2a10",
   "metadata": {},
   "outputs": [
    {
     "data": {
      "text/plain": [
       "'\\nQ2. Define the different types of statistics and give an example of when each type might be used.\\n'"
      ]
     },
     "execution_count": 4,
     "metadata": {},
     "output_type": "execute_result"
    }
   ],
   "source": [
    "'''\n",
    "Q2. Define the different types of statistics and give an example of when each type might be used.\n",
    "'''"
   ]
  },
  {
   "cell_type": "code",
   "execution_count": 5,
   "id": "f0d83c7b-80f0-4eec-ae45-6b5a0f8a7c67",
   "metadata": {},
   "outputs": [
    {
     "data": {
      "text/plain": [
       "'\\nthere are two type of statistics :\\n* Descriptive: it consist organizing and summrrized data \\nmeasure of central tendency \\nmeasure of dipersion \\nin the form many type of distribution of data  such as histo gram ,pdf,pmf\\n* inferential.: it consist using data you have measured conclusion \\n\\n'"
      ]
     },
     "execution_count": 5,
     "metadata": {},
     "output_type": "execute_result"
    }
   ],
   "source": [
    "'''\n",
    "there are two type of statistics :\n",
    "* Descriptive: it consist organizing and summrrized data \n",
    "measure of central tendency \n",
    "measure of dipersion \n",
    "in the form many type of distribution of data  such as histo gram ,pdf,pmf\n",
    "* inferential.: it consist using data you have measured conclusion \n",
    "\n",
    "'''"
   ]
  },
  {
   "cell_type": "code",
   "execution_count": 6,
   "id": "ffdd8763-7f1b-4ae3-b667-352e1d7e158d",
   "metadata": {},
   "outputs": [
    {
     "data": {
      "text/plain": [
       "'\\nQ3. What are the different types of data and how do they differ from each other? Provide an example of\\neach type of data.\\n'"
      ]
     },
     "execution_count": 6,
     "metadata": {},
     "output_type": "execute_result"
    }
   ],
   "source": [
    "'''\n",
    "Q3. What are the different types of data and how do they differ from each other? Provide an example of\n",
    "each type of data.\n",
    "'''"
   ]
  },
  {
   "cell_type": "code",
   "execution_count": 7,
   "id": "abc874de-28c7-4dd8-9bce-164f07c3c0a5",
   "metadata": {},
   "outputs": [
    {
     "data": {
      "text/plain": [
       "'\\nthere are two type of data : quantative and qualitive \\nand quantative are divided in two part sush as continious and discret data\\n and qualitative are divided in two parts asuch as nominal and odernal data \\n in continouas  all decimal number comes \\n discrete  all whole number type data are come \\n nominal data :in the data there are no ranking such as gender etc.\\n ordernal data : in the data ranking are important  such as feedback as like good bad fair etc,\\n\\n'"
      ]
     },
     "execution_count": 7,
     "metadata": {},
     "output_type": "execute_result"
    }
   ],
   "source": [
    "'''\n",
    "there are two type of data : quantative and qualitive \n",
    "and quantative are divided in two part sush as continious and discret data\n",
    " and qualitative are divided in two parts asuch as nominal and odernal data \n",
    " in continouas  all decimal number comes \n",
    " discrete  all whole number type data are come \n",
    " nominal data :in the data there are no ranking such as gender etc.\n",
    " ordernal data : in the data ranking are important  such as feedback as like good bad fair etc,\n",
    "\n",
    "'''"
   ]
  },
  {
   "cell_type": "code",
   "execution_count": 8,
   "id": "65011a3d-759e-4618-a7e5-f10ab65a0581",
   "metadata": {},
   "outputs": [
    {
     "data": {
      "text/plain": [
       "'\\nQ4. Categorise the following datasets with respect to quantitative and qualitative data types:\\n(i) Grading in exam: A+, A, B+, B, C+, C, D, E\\n(ii) Colour of mangoes: yellow, green, orange, red\\n(iii) Height data of a class: [178.9, 179, 179.5, 176, 177.2, 178.3, 175.8,...]\\n(iv) Number of mangoes exported by a farm: [500, 600, 478, 672, ...]\\n'"
      ]
     },
     "execution_count": 8,
     "metadata": {},
     "output_type": "execute_result"
    }
   ],
   "source": [
    "'''\n",
    "Q4. Categorise the following datasets with respect to quantitative and qualitative data types:\n",
    "(i) Grading in exam: A+, A, B+, B, C+, C, D, E\n",
    "(ii) Colour of mangoes: yellow, green, orange, red\n",
    "(iii) Height data of a class: [178.9, 179, 179.5, 176, 177.2, 178.3, 175.8,...]\n",
    "(iv) Number of mangoes exported by a farm: [500, 600, 478, 672, ...]\n",
    "'''"
   ]
  },
  {
   "cell_type": "code",
   "execution_count": 9,
   "id": "b7fdf863-0f4f-4f4c-ab84-408e38aa839e",
   "metadata": {},
   "outputs": [
    {
     "data": {
      "text/plain": [
       "'\\ngrading in exam is the qualitive data type \\ncolor of mango are qualitive data type \\nheight of class is quantitative data type\\nnumber of mangoes are quantative data type\\n\\n'"
      ]
     },
     "execution_count": 9,
     "metadata": {},
     "output_type": "execute_result"
    }
   ],
   "source": [
    "'''\n",
    "grading in exam is the qualitive data type \n",
    "color of mango are qualitive data type \n",
    "height of class is quantitative data type\n",
    "number of mangoes are quantative data type\n",
    "\n",
    "'''"
   ]
  },
  {
   "cell_type": "code",
   "execution_count": 10,
   "id": "2adf0401-2d7e-4b4e-b457-fc54a417657f",
   "metadata": {},
   "outputs": [
    {
     "data": {
      "text/plain": [
       "'\\nQ5. Explain the concept of levels of measurement and give an example of a variable for each level.\\n'"
      ]
     },
     "execution_count": 10,
     "metadata": {},
     "output_type": "execute_result"
    }
   ],
   "source": [
    "'''\n",
    "Q5. Explain the concept of levels of measurement and give an example of a variable for each level.\n",
    "'''"
   ]
  },
  {
   "cell_type": "code",
   "execution_count": 11,
   "id": "29b1ba89-94c7-4340-af6e-998faf70647c",
   "metadata": {},
   "outputs": [
    {
     "data": {
      "text/plain": [
       "'\\nthe concept of level of measurement help to find the best result of any data by the help we can easily  pridict  output\\nor  mapping the data \\nthere are four scale of data\\nnominal scale of data : it is qualitaive and categorial data in the data ranking are not important  such as gender ,color etc\\nordinal scale of data :in this data ranking are imporrtant and order and defference are not measured   such as  ranks in race \\ninterval scale data : order can matter and difference  can be measured but ration cannot be same such as temperature\\nratio scale data :order can matter ,deffernce can be measured and ratio such as growth\\n\\n'"
      ]
     },
     "execution_count": 11,
     "metadata": {},
     "output_type": "execute_result"
    }
   ],
   "source": [
    "'''\n",
    "the concept of level of measurement help to find the best result of any data by the help we can easily  pridict  output\n",
    "or  mapping the data \n",
    "there are four scale of data\n",
    "nominal scale of data : it is qualitaive and categorial data in the data ranking are not important  such as gender ,color etc\n",
    "ordinal scale of data :in this data ranking are imporrtant and order and defference are not measured   such as  ranks in race \n",
    "interval scale data : order can matter and difference  can be measured but ration cannot be same such as temperature\n",
    "ratio scale data :order can matter ,deffernce can be measured and ratio such as growth\n",
    "\n",
    "'''"
   ]
  },
  {
   "cell_type": "code",
   "execution_count": 12,
   "id": "8a99127b-ee66-4b9e-ad3d-ab96e34a4d93",
   "metadata": {},
   "outputs": [
    {
     "data": {
      "text/plain": [
       "'\\nQ6. Why is it important to understand the level of measurement when analyzing data? Provide an\\nexample to illustrate your answer.\\n'"
      ]
     },
     "execution_count": 12,
     "metadata": {},
     "output_type": "execute_result"
    }
   ],
   "source": [
    "'''\n",
    "Q6. Why is it important to understand the level of measurement when analyzing data? Provide an\n",
    "example to illustrate your answer.\n",
    "'''"
   ]
  },
  {
   "cell_type": "code",
   "execution_count": 13,
   "id": "17295372-656a-4026-9fa3-322621a54854",
   "metadata": {},
   "outputs": [
    {
     "data": {
      "text/plain": [
       "'\\n\\nthe concept of level of measurement help to find the best result of any data by the help we can easily  pridict  output\\nor  mapping the data\\nlenth of differnce lenth of river : it is the interval scale of data  becouse length can be defference \\nmaterial status: in this data type ranking are not important so it is nominal data type \\n\\n\\n'"
      ]
     },
     "execution_count": 13,
     "metadata": {},
     "output_type": "execute_result"
    }
   ],
   "source": [
    "'''\n",
    "\n",
    "the concept of level of measurement help to find the best result of any data by the help we can easily  pridict  output\n",
    "or  mapping the data\n",
    "lenth of differnce lenth of river : it is the interval scale of data  becouse length can be defference \n",
    "material status: in this data type ranking are not important so it is nominal data type \n",
    "\n",
    "\n",
    "'''"
   ]
  },
  {
   "cell_type": "code",
   "execution_count": 14,
   "id": "fe6cc92a-6d48-4daf-85cf-fa7159f8f491",
   "metadata": {},
   "outputs": [
    {
     "data": {
      "text/plain": [
       "'\\nQ7. How nominal data type is different from ordinal data type.\\nin nominal data type  rankin are not important ,in other side ordinal data ranking are important \\n'"
      ]
     },
     "execution_count": 14,
     "metadata": {},
     "output_type": "execute_result"
    }
   ],
   "source": [
    "'''\n",
    "Q7. How nominal data type is different from ordinal data type.\n",
    "\n",
    "'''"
   ]
  },
  {
   "cell_type": "code",
   "execution_count": 15,
   "id": "fe3ca8c2-ae2c-48de-90e3-145431d07fde",
   "metadata": {},
   "outputs": [
    {
     "data": {
      "text/plain": [
       "'\\nin nominal data type  rankin are not important ,in other side ordinal data ranking are important \\n'"
      ]
     },
     "execution_count": 15,
     "metadata": {},
     "output_type": "execute_result"
    }
   ],
   "source": [
    "'''\n",
    "in nominal data type  rankin are not important ,in other side ordinal data ranking are important \n",
    "'''"
   ]
  },
  {
   "cell_type": "code",
   "execution_count": 16,
   "id": "8804d403-29da-48c6-9f63-04404bc0977c",
   "metadata": {},
   "outputs": [
    {
     "data": {
      "text/plain": [
       "'\\nQ8. Which type of plot can be used to display data in terms of range?\\n'"
      ]
     },
     "execution_count": 16,
     "metadata": {},
     "output_type": "execute_result"
    }
   ],
   "source": [
    "'''\n",
    "Q8. Which type of plot can be used to display data in terms of range?\n",
    "'''"
   ]
  },
  {
   "cell_type": "code",
   "execution_count": 18,
   "id": "945b4c39-5c1f-499b-98a5-d830c7ed0021",
   "metadata": {},
   "outputs": [
    {
     "data": {
      "text/plain": [
       "'\\nhistogram,boxplot\\n'"
      ]
     },
     "execution_count": 18,
     "metadata": {},
     "output_type": "execute_result"
    }
   ],
   "source": [
    "'''\n",
    "histogram,boxplot\n",
    "'''"
   ]
  },
  {
   "cell_type": "code",
   "execution_count": 19,
   "id": "fe892b3e-a5a4-4568-8009-e09b0cc6dee0",
   "metadata": {},
   "outputs": [
    {
     "data": {
      "text/plain": [
       "'\\nQ9. Describe the difference between descriptive and inferential statistics. Give an example of each\\ntype of statistics and explain how they are used.\\n'"
      ]
     },
     "execution_count": 19,
     "metadata": {},
     "output_type": "execute_result"
    }
   ],
   "source": [
    "'''\n",
    "Q9. Describe the difference between descriptive and inferential statistics. Give an example of each\n",
    "type of statistics and explain how they are used.\n",
    "'''"
   ]
  },
  {
   "cell_type": "code",
   "execution_count": 20,
   "id": "557b4823-b885-4c08-92a5-61c8d24492cd",
   "metadata": {},
   "outputs": [
    {
     "data": {
      "text/plain": [
       "'\\nthere are two type of statistics :\\n* Descriptive: it consist organizing and summrrized data \\nmeasure of central tendency \\nmeasure of dipersion \\nin the form many type of distribution of data  such as histo gram ,pdf,pmf\\n* inferential.: it consist using data you have measured conclusion\\n'"
      ]
     },
     "execution_count": 20,
     "metadata": {},
     "output_type": "execute_result"
    }
   ],
   "source": [
    "'''\n",
    "there are two type of statistics :\n",
    "* Descriptive: it consist organizing and summrrized data \n",
    "measure of central tendency \n",
    "measure of dipersion \n",
    "in the form many type of distribution of data  such as histo gram ,pdf,pmf\n",
    "* inferential.: it consist using data you have measured conclusion\n",
    "'''"
   ]
  },
  {
   "cell_type": "code",
   "execution_count": 21,
   "id": "427ba079-2b79-4c17-a6e7-e1b69fc1a96b",
   "metadata": {},
   "outputs": [
    {
     "data": {
      "text/plain": [
       "'\\nQ10. What are some common measures of central tendency and variability used in statistics? Explain\\nhow each measure can be used to describe a dataset.\\n'"
      ]
     },
     "execution_count": 21,
     "metadata": {},
     "output_type": "execute_result"
    }
   ],
   "source": [
    "'''\n",
    "Q10. What are some common measures of central tendency and variability used in statistics? Explain\n",
    "how each measure can be used to describe a dataset.\n",
    "'''"
   ]
  },
  {
   "cell_type": "code",
   "execution_count": 26,
   "id": "8f3c51d7-5fa3-4996-88f2-6001785fc5e9",
   "metadata": {},
   "outputs": [
    {
     "name": "stderr",
     "output_type": "stream",
     "text": [
      "/tmp/ipykernel_95/1059041501.py:7: FutureWarning: The default value of numeric_only in DataFrame.mean is deprecated. In a future version, it will default to False. In addition, specifying 'numeric_only=None' is deprecated. Select only valid columns or specify the value of numeric_only to silence this warning.\n",
      "  tip.mean()\n",
      "/tmp/ipykernel_95/1059041501.py:9: FutureWarning: The default value of numeric_only in DataFrame.median is deprecated. In a future version, it will default to False. In addition, specifying 'numeric_only=None' is deprecated. Select only valid columns or specify the value of numeric_only to silence this warning.\n",
      "  tip.median()\n"
     ]
    },
    {
     "data": {
      "text/plain": [
       "total_bill    17.795\n",
       "tip            2.900\n",
       "size           2.000\n",
       "dtype: float64"
      ]
     },
     "execution_count": 26,
     "metadata": {},
     "output_type": "execute_result"
    }
   ],
   "source": [
    "'''\n",
    "we can measure central tendency and veriability by the help mean ,mode ,median\n",
    "'''\n",
    "import seaborn as sns\n",
    "tip= sns.load_dataset(\"tips\")\n",
    "print(tip.head()\n",
    "\n",
    "tip.mean()\n",
    "tip.mode()\n",
    "tip.median()"
   ]
  },
  {
   "cell_type": "code",
   "execution_count": null,
   "id": "3a1f7d66-9056-4e51-9dff-e33692034397",
   "metadata": {},
   "outputs": [],
   "source": []
  }
 ],
 "metadata": {
  "kernelspec": {
   "display_name": "Python 3 (ipykernel)",
   "language": "python",
   "name": "python3"
  },
  "language_info": {
   "codemirror_mode": {
    "name": "ipython",
    "version": 3
   },
   "file_extension": ".py",
   "mimetype": "text/x-python",
   "name": "python",
   "nbconvert_exporter": "python",
   "pygments_lexer": "ipython3",
   "version": "3.10.8"
  }
 },
 "nbformat": 4,
 "nbformat_minor": 5
}
